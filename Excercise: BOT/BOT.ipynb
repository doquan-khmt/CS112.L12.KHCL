{
 "cells": [
  {
   "cell_type": "markdown",
   "metadata": {},
   "source": [
    "### Brute-force approach\n",
    "<li> Time complexity: O(N^2), looping two times over an array.\n",
    "<li> Space complexity: O(N), array of length N to store values."
   ]
  },
  {
   "cell_type": "code",
   "execution_count": 1,
   "metadata": {},
   "outputs": [
    {
     "name": "stdout",
     "output_type": "stream",
     "text": [
      "16\n",
      "2 -4 5 -8 4 -1 -1 1 1 1 -2 2 4 -6 9 -4\n",
      "5 15 12\n"
     ]
    }
   ],
   "source": [
    "N = int(input())\n",
    "arr = list(map(int, input().split()))\n",
    "start = 0; end = 0\n",
    "\n",
    "max_sub_array = float('-inf')\n",
    "for i in range(N):\n",
    "    max_ending_here = 0\n",
    "    for j in range(i, N):\n",
    "        max_ending_here += arr[j]\n",
    "        if max_ending_here > max_sub_array:\n",
    "            max_sub_array = max_ending_here\n",
    "            start = i\n",
    "            end = j\n",
    "            \n",
    "print(start + 1, end + 1, max_sub_array)"
   ]
  },
  {
   "cell_type": "markdown",
   "metadata": {},
   "source": [
    "### Dynamic Programming approach\n",
    "<li> Time complexity: O(N), looping one time over an array.\n",
    "<li> Space complexity: O(N), array of length to store values."
   ]
  },
  {
   "cell_type": "code",
   "execution_count": 2,
   "metadata": {},
   "outputs": [
    {
     "name": "stdout",
     "output_type": "stream",
     "text": [
      "16\n",
      "2 -4 5 -8 4 -1 -1 1 1 1 -2 2 4 -6 9 -4\n",
      "5 15 12\n"
     ]
    }
   ],
   "source": [
    "N = int(input())\n",
    "arr = list(map(int, input().split()))\n",
    "max_ending_here = arr[0]\n",
    "max_sub_array = float('-inf')\n",
    "start = 0; temp_start = 0; end = 0 \n",
    "\n",
    "for i in range(1, N):\n",
    "    max_ending_here += arr[i]\n",
    "\n",
    "    if max_ending_here > max_sub_array:\n",
    "        max_sub_array = max_ending_here\n",
    "        end = i\n",
    "        start = temp_start\n",
    "        \n",
    "    elif max_ending_here < 0:\n",
    "        max_ending_here = 0\n",
    "        temp_start = i + 1\n",
    "\n",
    "print(start + 1, end + 1, max_sub_array)"
   ]
  },
  {
   "cell_type": "code",
   "execution_count": null,
   "metadata": {},
   "outputs": [],
   "source": []
  }
 ],
 "metadata": {
  "kernelspec": {
   "display_name": "Python 3",
   "language": "python",
   "name": "python3"
  },
  "language_info": {
   "codemirror_mode": {
    "name": "ipython",
    "version": 3
   },
   "file_extension": ".py",
   "mimetype": "text/x-python",
   "name": "python",
   "nbconvert_exporter": "python",
   "pygments_lexer": "ipython3",
   "version": "3.7.4"
  }
 },
 "nbformat": 4,
 "nbformat_minor": 2
}
