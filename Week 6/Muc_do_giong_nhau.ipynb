{
 "cells": [
  {
   "cell_type": "markdown",
   "metadata": {},
   "source": [
    "### Abstraction:\n",
    "- Kiểm tra cặp ký tự liên tiếp giống nhau của 2 chuỗi."
   ]
  },
  {
   "cell_type": "markdown",
   "metadata": {},
   "source": [
    "### Pattern Recognition:\n"
   ]
  },
  {
   "cell_type": "code",
   "execution_count": null,
   "metadata": {},
   "outputs": [],
   "source": []
  },
  {
   "cell_type": "markdown",
   "metadata": {},
   "source": [
    "### Algorithm designed:\n",
    "**Input:** 2 dòng chứa 2 xâu khác rỗng, mỗi xâu chỉ chứa các ký tự chữ cái in hoa và có độ dài không quá $10^5$.\n",
    "\n",
    "**Output:** Mức độ giống nhau của 2 xâu.\n",
    "\n",
    "**Mã giả:**\n",
    "\n",
    "- loop 1: Tính số lần xuất hiện của các cặp phần tử liên tiếp của gene_1:\n",
    "        for i in gene_1_range():\n",
    "            gene_1_dict[gene_1[i] + gene_1[i+1]] += 1\n",
    "- loop 2: Tính số lần xuất hiện của các cặp phần tử liên tiếp của gene_2:\n",
    "        for i in gene_2_range():\n",
    "            gene_2_dict[gene_2[i] + gene_2[i+1]] += 1\n",
    "- ans ← 0\n",
    "- loop 3: Đếm số cặp ký tự trùng ở 2 chuỗi:\n",
    "        for key in gen_1_dict:\n",
    "            if key in gene_2_dict:\n",
    "                ans ← ans + gene_1_dict[key]\n"
   ]
  },
  {
   "cell_type": "code",
   "execution_count": 1,
   "metadata": {},
   "outputs": [
    {
     "name": "stdout",
     "output_type": "stream",
     "text": [
      "ABBACAB\n",
      "BCABB\n",
      "4\n"
     ]
    }
   ],
   "source": [
    "from collections import defaultdict\n",
    "\n",
    "gene_1_dict, gene_2_dict = defaultdict(int), defaultdict(int)\n",
    "gene_1, gene_2 = input(), input()\n",
    "\n",
    "for i in range(len(gene_1) - 1):\n",
    "    gene_1_dict[gene_1[i] + gene_1[i + 1]] += 1\n",
    "\n",
    "for i in range(len(gene_2) - 1):\n",
    "    gene_2_dict[gene_2[i] + gene_2[i + 1]] += 1\n",
    "\n",
    "ans = 0\n",
    "for key in gene_1_dict:\n",
    "    if key in gene_2_dict:\n",
    "        ans += gene_1_dict[key]\n",
    "\n",
    "print(ans)"
   ]
  },
  {
   "cell_type": "markdown",
   "metadata": {},
   "source": [
    "**Độ phức tạp:** O(n)"
   ]
  },
  {
   "cell_type": "code",
   "execution_count": null,
   "metadata": {},
   "outputs": [],
   "source": []
  }
 ],
 "metadata": {
  "kernelspec": {
   "display_name": "Python 3",
   "language": "python",
   "name": "python3"
  },
  "language_info": {
   "codemirror_mode": {
    "name": "ipython",
    "version": 3
   },
   "file_extension": ".py",
   "mimetype": "text/x-python",
   "name": "python",
   "nbconvert_exporter": "python",
   "pygments_lexer": "ipython3",
   "version": "3.7.6"
  }
 },
 "nbformat": 4,
 "nbformat_minor": 4
}
