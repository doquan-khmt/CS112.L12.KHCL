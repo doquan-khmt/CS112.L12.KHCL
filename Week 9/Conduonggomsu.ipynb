{
  "nbformat": 4,
  "nbformat_minor": 0,
  "metadata": {
    "colab": {
      "name": "Conduonggomsu.ipynb",
      "provenance": []
    },
    "kernelspec": {
      "name": "python3",
      "display_name": "Python 3"
    }
  },
  "cells": [
    {
      "cell_type": "markdown",
      "metadata": {
        "id": "gfkOkbGJMp16"
      },
      "source": [
        "### **Abstraction**\n"
      ]
    },
    {
      "cell_type": "markdown",
      "metadata": {
        "id": "GdZrmFeqS82j"
      },
      "source": [
        "### **Pattern Recognition**"
      ]
    },
    {
      "cell_type": "markdown",
      "metadata": {
        "id": "02uIBqBwTHxo"
      },
      "source": [
        "### **Algorithm designed**\n",
        "\n",
        "**Input:** \n",
        "\n",
        "*   Dòng đầu tiên chứa một số nguyên **n** – số lượng lô của con đê (`2 ≤ n ≤ 105`),\n",
        "*   Dòng thứ 2 chứa **n** số nguyên a1, a2, . . ., an – màu của các lô (`1 ≤ ai ≤ 50 000, i = 1 ÷ n`).\n",
        "\n",
        "**Output:** \n",
        "\n",
        "\n",
        "*   Dòng đầu tiên chứa số nguyên **m** – số lượng phương án khác nhau chia con đường thành các bức tranh (`default = -1`)\n",
        "*   Nếu `m # -1`, dòng tiếp theo chưa 3 số nguyên **k**, **p** và **q** – độ rộng bức tranh, số tranh do nhóm 1 thực hiện và số tranh do nhóm 2 thực hiện, thông tin đưa ra theo thứ tự tăng dần của **k** và ở mỗi dòng có `p ≥ q > 0.`\n",
        "\n",
        "\n",
        "\n"
      ]
    },
    {
      "cell_type": "code",
      "metadata": {
        "colab": {
          "base_uri": "https://localhost:8080/"
        },
        "id": "uuxUF4mgSI8X",
        "outputId": "0f724413-01c2-4e1f-b405-b28ab7b2d5cd"
      },
      "source": [
        "from collections import OrderedDict\n",
        "n = int(input())\n",
        "a = list(map(int, input().strip().split()))\n",
        "\n",
        "divisors = [x for x in range(1, n // 2 + 1) if n % x == 0]\n",
        "ans = []\n",
        "\n",
        "for divisor in divisors:\n",
        "    d = OrderedDict()\n",
        "\n",
        "    hash_total_one = sum([a[i]**3 for i in range(divisor)])\n",
        "    d[hash_total_one] = 1\n",
        "    checked = True\n",
        "\n",
        "    for j in range(divisor, n, divisor):\n",
        "\n",
        "        hash_total = sum([a[i]**3 for i in range(j, j + divisor)])\n",
        "\n",
        "        if hash_total in d:\n",
        "            d[hash_total] += 1\n",
        "        else:\n",
        "            d[hash_total] = 1\n",
        "        if len(d) > 2:\n",
        "            checked = False\n",
        "            break\n",
        "\n",
        "    if checked == False or len(d) == 1:\n",
        "        continue\n",
        "\n",
        "    values = iter(d.values())\n",
        "    ans.append(f'{divisor} {next(values)} {next(values)}')\n",
        "\n",
        "if len(ans) == 0:\n",
        "    print(-1)\n",
        "else:\n",
        "    print(len(ans))\n",
        "    for tuple in ans:\n",
        "        print(tuple)"
      ],
      "execution_count": 1,
      "outputs": [
        {
          "output_type": "stream",
          "text": [
            "9\n",
            "1 2 3 6 4 9 3 1 2\n",
            "1\n",
            "3 2 1\n"
          ],
          "name": "stdout"
        }
      ]
    }
  ]
}