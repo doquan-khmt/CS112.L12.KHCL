{
  "nbformat": 4,
  "nbformat_minor": 0,
  "metadata": {
    "colab": {
      "name": "songuyemoi.ipynb",
      "provenance": []
    },
    "kernelspec": {
      "name": "python3",
      "display_name": "Python 3"
    }
  },
  "cells": [
    {
      "cell_type": "markdown",
      "metadata": {
        "id": "KBl2CHQr0zX2"
      },
      "source": [
        "### **Abstraction**\n",
        "Tìm số nguyên lớn nhất **m** chia hết cho 3 và khác n ở đúng một chữ số. (**n** có không quá 100 chữ số)"
      ]
    },
    {
      "cell_type": "markdown",
      "metadata": {
        "id": "RYBaO6RlKnnS"
      },
      "source": [
        "### **Pattern Recognition**"
      ]
    },
    {
      "cell_type": "markdown",
      "metadata": {
        "id": "L1cx3-CMKqoZ"
      },
      "source": [
        "### **Algorithm designed**\n",
        "  **Input:** Số nguyên **n** có không quá 100 chữ số và không chứa các số 0 không có nghĩa.\n",
        "  \n",
        "  **Ouput:** số nguyên m lớn nhất thõa đề.\n"
      ]
    },
    {
      "cell_type": "code",
      "metadata": {
        "colab": {
          "base_uri": "https://localhost:8080/"
        },
        "id": "CcmBRorzLOkM",
        "outputId": "b8765730-6f74-4b3f-c949-80909eb9abfb"
      },
      "source": [
        "n = int(input())\n",
        "\n",
        "def remainder_except_pos_i(s, pos):\n",
        "    return sum([int(s[i]) for i in range(len(s)) if i != pos]) % 3\n",
        "\n",
        "\n",
        "n = [int(x) for x in str(n)]\n",
        "checked = False\n",
        "\n",
        "for i in range(len(n)):\n",
        "    x = remainder_except_pos_i(n, i)\n",
        "    if x == 1:\n",
        "        if n[i] < 8:\n",
        "            n[i] = 8\n",
        "            checked = True\n",
        "    elif x == 2:\n",
        "        if n[i] < 7:\n",
        "            n[i] = 7\n",
        "            checked = True\n",
        "    else:\n",
        "        if n[i] < 9:\n",
        "            n[i] = 9\n",
        "            checked = True\n",
        "    if checked:\n",
        "        ans = int(''.join(map(str, n)))\n",
        "        print(ans)\n",
        "        exit()\n",
        "\n",
        "while n[-1] > 0:\n",
        "    n[-1] -= 1\n",
        "    if sum([int(n[i]) for i in range(len(n))]) % 3 == 0:\n",
        "        ans = int(''.join(map(str, n)))\n",
        "        print(ans)\n",
        "        exit()"
      ],
      "execution_count": 3,
      "outputs": [
        {
          "output_type": "stream",
          "text": [
            "123\n",
            "723\n",
            "783\n",
            "789\n",
            "786\n",
            "783\n",
            "780\n"
          ],
          "name": "stdout"
        }
      ]
    },
    {
      "cell_type": "code",
      "metadata": {
        "id": "A8BRa2O-L5q9"
      },
      "source": [
        ""
      ],
      "execution_count": null,
      "outputs": []
    }
  ]
}